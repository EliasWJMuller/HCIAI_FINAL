{
 "cells": [
  {
   "cell_type": "code",
   "execution_count": 57,
   "metadata": {},
   "outputs": [],
   "source": [
    "import sys\n",
    "from subprocess import run\n",
    "from pathlib import Path\n",
    "import os"
   ]
  },
  {
   "cell_type": "code",
   "execution_count": 58,
   "metadata": {},
   "outputs": [],
   "source": [
    "SCRIPT_PATH = Path('run_hcaigpt.py')"
   ]
  },
  {
   "cell_type": "code",
   "execution_count": null,
   "metadata": {},
   "outputs": [],
   "source": [
    "i = 0\n",
    "running = True\n",
    "while running:\n",
    "    model_number = '0' if (i%2) == 0 else '1'\n",
    "    command = [sys.executable, str(SCRIPT_PATH), '--inputprompt', 'outputanswer.txt', '--saveoutput', 'outputanswer.txt', '--roundtable_participant', model_number]\n",
    "\n",
    "    result = run(command, env=os.environ, capture_output=True, text=True)\n",
    "\n",
    "    if i >= 0: \n",
    "        print(\"[ACTION REQUIRED]\")\n",
    "        res = None\n",
    "\n",
    "        while True:\n",
    "            with open('outputanswer.txt', 'r') as file:\n",
    "                print(file.read())\n",
    "            res = input(\">>> Would you like to interrupt the ongoing roundtable to provide additional input [i], finish [f], or continue [c]? [i/f/c]: \")\n",
    "\n",
    "            if res == \"i\": \n",
    "                with open('outputanswer.txt', 'a') as file:\n",
    "                    content_to_append = input(\">>> User Input: \")\n",
    "                    file.write(\"\\n\\n>>> User Input: \")\n",
    "                    file.write(content_to_append)\n",
    "                break\n",
    "            if res == \"f\":\n",
    "                running = False\n",
    "                break\n",
    "            if res=='c':\n",
    "                print(\"Continue\")\n",
    "                break\n",
    "\n",
    "    i += 1"
   ]
  }
 ],
 "metadata": {
  "kernelspec": {
   "display_name": "localGPT",
   "language": "python",
   "name": "python3"
  },
  "language_info": {
   "codemirror_mode": {
    "name": "ipython",
    "version": 3
   },
   "file_extension": ".py",
   "mimetype": "text/x-python",
   "name": "python",
   "nbconvert_exporter": "python",
   "pygments_lexer": "ipython3",
   "version": "3.10.0"
  }
 },
 "nbformat": 4,
 "nbformat_minor": 2
}
